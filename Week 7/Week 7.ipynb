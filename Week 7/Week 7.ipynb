{
 "cells": [
  {
   "cell_type": "markdown",
   "metadata": {},
   "source": [
    "# Week 7 - Python Basic - Geocourse.id_Fullstack WebGISn"
   ]
  },
  {
   "cell_type": "markdown",
   "metadata": {},
   "source": [
    "## Bermain dengan nomor"
   ]
  },
  {
   "cell_type": "code",
   "execution_count": null,
   "metadata": {},
   "outputs": [
    {
     "name": "stdout",
     "output_type": "stream",
     "text": [
      "12 <class 'int'>\n",
      "-2 <class 'int'>\n",
      "35 <class 'int'>\n",
      "5 <class 'str'>\n",
      "5 <class 'int'>\n",
      "5.0 <class 'float'>\n"
     ]
    }
   ],
   "source": [
    "X = 5\n",
    "Y = 7\n",
    "Z = 9.5\n",
    "\n",
    "print( X + Y, type(X + Y))\n",
    "print( X - Y, type(X - Y))\n",
    "print( X * Y, type(X * Y))\n",
    "\n",
    "data = '5'\n",
    "data_int = int(data)\n",
    "data_float = float(data)\n",
    "\n",
    "print(data, type(data))\n",
    "print(data_int, type(data_int))\n",
    "print(data_float, type(data_float))"
   ]
  },
  {
   "cell_type": "markdown",
   "metadata": {},
   "source": [
    "## Bermain dengan String"
   ]
  },
  {
   "cell_type": "markdown",
   "metadata": {},
   "source": []
  },
  {
   "cell_type": "code",
   "execution_count": null,
   "metadata": {},
   "outputs": [
    {
     "name": "stdout",
     "output_type": "stream",
     "text": [
      "manipulasi teks dengan penggabungan 2 variable\n",
      "ini text 1 ini text 2\n",
      "manipulasi teks dengan perkalian\n",
      "text ini dapat dimanipulasi dengan perkaliantext ini dapat dimanipulasi dengan perkaliantext ini dapat dimanipulasi dengan perkaliantext ini dapat dimanipulasi dengan perkaliantext ini dapat dimanipulasi dengan perkaliantext ini dapat dimanipulasi dengan perkaliantext ini dapat dimanipulasi dengan perkaliantext ini dapat dimanipulasi dengan perkalian\n",
      "penggunaan / dan ' pada string\n",
      "Penggunaan kutip tiga (''') untuk manipulasi string untuk menulis secara bebas\n",
      "\n",
      "didalam kutip tiga ini kalian dapat mengetik\n",
      "dengan bebas dengan tipe data string\n",
      "\n",
      "slicing text menggunakan [x:y] dimana x adalah awal karakter dan y adalah akhir karakter\n",
      "python\n",
      "py\n"
     ]
    }
   ],
   "source": [
    "# Penggunaan / dan ' pada string\n",
    "\n",
    "# manipulasi text\n",
    "\n",
    "print(\"manipulasi teks dengan penggabungan 2 variable\")\n",
    "mani_text1 = 'ini text 1'\n",
    "mani_text2 = 'ini text 2'\n",
    "print( mani_text1, mani_text2)\n",
    "\n",
    "print(\"manipulasi teks dengan perkalian\")\n",
    "mani_text3 = 'text ini dapat dimanipulasi dengan perkalian'\n",
    "print(8* mani_text3)\n",
    "\n",
    "\n",
    "print(\"penggunaan / dan ' pada string\")\n",
    "# mani_text4 = ' penggunaan / dan n' '\n",
    "\n",
    "print(\"Penggunaan kutip tiga (''') untuk manipulasi string untuk menulis secara bebas\")\n",
    "mani_text5 = '''\n",
    "didalam kutip tiga ini kalian dapat mengetik\n",
    "dengan bebas dengan tipe data string\n",
    "'''\n",
    "print(mani_text5)\n",
    "\n",
    "print(\"slicing text menggunakan [x:y] dimana x adalah awal karakter dan y adalah akhir karakter\")\n",
    "mani_text6 = \"python\"\n",
    "print(mani_text6)\n",
    "print(mani_text6[0:2])\n"
   ]
  },
  {
   "cell_type": "markdown",
   "metadata": {},
   "source": [
    "### Bermain dengan List"
   ]
  },
  {
   "cell_type": "code",
   "execution_count": null,
   "metadata": {},
   "outputs": [
    {
     "name": "stdout",
     "output_type": "stream",
     "text": [
      "['Jakarta', 'Bandung', 'Lampung', 'Medan']\n",
      "Lampung\n"
     ]
    }
   ],
   "source": [
    "Kota = ['Jakarta','Bandung','Lampung','Medan']\n",
    "print(Kota)\n",
    "print(Kota[2])\n"
   ]
  },
  {
   "cell_type": "code",
   "execution_count": null,
   "metadata": {},
   "outputs": [
    {
     "name": "stdout",
     "output_type": "stream",
     "text": [
      "Kode Provinsi= 11, Kode Kabupaten= 11, Kode Kecamatan= 11\n"
     ]
    },
    {
     "ename": "TypeError",
     "evalue": "can only concatenate str (not \"int\") to str",
     "output_type": "error",
     "traceback": [
      "\u001b[1;31m---------------------------------------------------------------------------\u001b[0m",
      "\u001b[1;31mTypeError\u001b[0m                                 Traceback (most recent call last)",
      "\u001b[1;32md:\\Adli\\Pelatihan\\Geocourse_WebGIS\\Week 7\\Week 7.ipynb Cell 9\u001b[0m line \u001b[0;36m1\n\u001b[0;32m     <a href='vscode-notebook-cell:/d%3A/Adli/Pelatihan/Geocourse_WebGIS/Week%207/Week%207.ipynb#X11sZmlsZQ%3D%3D?line=11'>12</a>\u001b[0m Bulan \u001b[39m=\u001b[39m [\u001b[39m'\u001b[39m\u001b[39mJanuari\u001b[39m\u001b[39m'\u001b[39m, \u001b[39m'\u001b[39m\u001b[39mFebruari\u001b[39m\u001b[39m'\u001b[39m, \u001b[39m'\u001b[39m\u001b[39mMaret\u001b[39m\u001b[39m'\u001b[39m, \u001b[39m'\u001b[39m\u001b[39mApril\u001b[39m\u001b[39m'\u001b[39m, \u001b[39m'\u001b[39m\u001b[39mMei\u001b[39m\u001b[39m'\u001b[39m, \u001b[39m'\u001b[39m\u001b[39mJuni\u001b[39m\u001b[39m'\u001b[39m, \u001b[39m'\u001b[39m\u001b[39mJuli\u001b[39m\u001b[39m'\u001b[39m, \u001b[39m'\u001b[39m\u001b[39mAgustus\u001b[39m\u001b[39m'\u001b[39m,\u001b[39m'\u001b[39m\u001b[39mSeptember\u001b[39m\u001b[39m'\u001b[39m,\u001b[39m'\u001b[39m\u001b[39mOktober\u001b[39m\u001b[39m'\u001b[39m,\u001b[39m'\u001b[39m\u001b[39mNovember\u001b[39m\u001b[39m'\u001b[39m,\u001b[39m'\u001b[39m\u001b[39mDesember\u001b[39m\u001b[39m'\u001b[39m]\n\u001b[0;32m     <a href='vscode-notebook-cell:/d%3A/Adli/Pelatihan/Geocourse_WebGIS/Week%207/Week%207.ipynb#X11sZmlsZQ%3D%3D?line=13'>14</a>\u001b[0m \u001b[39mprint\u001b[39m(\u001b[39m'''\u001b[39m\u001b[39mKode Provinsi= \u001b[39m\u001b[39m'''\u001b[39m \u001b[39m+\u001b[39m prov \u001b[39m+\u001b[39m\n\u001b[0;32m     <a href='vscode-notebook-cell:/d%3A/Adli/Pelatihan/Geocourse_WebGIS/Week%207/Week%207.ipynb#X11sZmlsZQ%3D%3D?line=14'>15</a>\u001b[0m \u001b[39m      \u001b[39m\u001b[39m''', Kode Kabupaten= '''\u001b[39;00m \u001b[39m+\u001b[39m kab \u001b[39m+\u001b[39m\n\u001b[0;32m     <a href='vscode-notebook-cell:/d%3A/Adli/Pelatihan/Geocourse_WebGIS/Week%207/Week%207.ipynb#X11sZmlsZQ%3D%3D?line=15'>16</a>\u001b[0m \u001b[39m      \u001b[39m\u001b[39m''', Kode Kecamatan= '''\u001b[39;00m \u001b[39m+\u001b[39m kec)\n\u001b[1;32m---> <a href='vscode-notebook-cell:/d%3A/Adli/Pelatihan/Geocourse_WebGIS/Week%207/Week%207.ipynb#X11sZmlsZQ%3D%3D?line=16'>17</a>\u001b[0m \u001b[39mprint\u001b[39m(\u001b[39m\"\u001b[39;49m\u001b[39mTanggal lahir \u001b[39;49m\u001b[39m\"\u001b[39;49m \u001b[39m+\u001b[39;49m tgl \u001b[39m+\u001b[39;49m \u001b[39m\"\u001b[39;49m\u001b[39m Bulan \u001b[39;49m\u001b[39m\"\u001b[39;49m \u001b[39m+\u001b[39;49m Bulan[bln] \u001b[39m+\u001b[39;49m \u001b[39m\"\u001b[39;49m\u001b[39m Tahun \u001b[39;49m\u001b[39m\"\u001b[39;49m \u001b[39m+\u001b[39;49m thn)\n",
      "\u001b[1;31mTypeError\u001b[0m: can only concatenate str (not \"int\") to str"
     ]
    }
   ],
   "source": [
    "NIK = input(\"nik: \")\n",
    "\n",
    "prov = NIK[0:2]\n",
    "kab = NIK[2:4]\n",
    "kec = NIK[4:6]\n",
    "tgl = NIK[6:8]\n",
    "bln = int(NIK[8:10])\n",
    "thn = int(NIK[10:12])\n",
    "urut = int(NIK[12:16])\n",
    "\n",
    "bln = bln-1\n",
    "Bulan = ['Januari', 'Februari', 'Maret', 'April', 'Mei', 'Juni', 'Juli', 'Agustus','September','Oktober','November','Desember']\n",
    "\n",
    "print('''Kode Provinsi= ''' + prov +\n",
    "      ''', Kode Kabupaten= ''' + kab +\n",
    "      ''', Kode Kecamatan= ''' + kec)\n",
    "print(\"Tanggal lahir \" + tgl + \" Bulan \" + Bulan[bln] + \" Tahun \" + thn)"
   ]
  },
  {
   "cell_type": "markdown",
   "metadata": {},
   "source": []
  }
 ],
 "metadata": {
  "kernelspec": {
   "display_name": ".venv",
   "language": "python",
   "name": "python3"
  },
  "language_info": {
   "codemirror_mode": {
    "name": "ipython",
    "version": 3
   },
   "file_extension": ".py",
   "mimetype": "text/x-python",
   "name": "python",
   "nbconvert_exporter": "python",
   "pygments_lexer": "ipython3",
   "version": "3.9.1"
  },
  "orig_nbformat": 4
 },
 "nbformat": 4,
 "nbformat_minor": 2
}
